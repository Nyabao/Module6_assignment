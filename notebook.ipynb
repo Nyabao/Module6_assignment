{
  "metadata": {
    "kernelspec": {
      "name": "python",
      "display_name": "Python (Pyodide)",
      "language": "python"
    },
    "language_info": {
      "codemirror_mode": {
        "name": "python",
        "version": 3
      },
      "file_extension": ".py",
      "mimetype": "text/x-python",
      "name": "python",
      "nbconvert_exporter": "python",
      "pygments_lexer": "ipython3",
      "version": "3.8"
    }
  },
  "nbformat_minor": 4,
  "nbformat": 4,
  "cells": [
    {
      "cell_type": "markdown",
      "source": "notebook",
      "metadata": {}
    },
    {
      "cell_type": "markdown",
      "source": "Introduction",
      "metadata": {}
    },
    {
      "cell_type": "markdown",
      "source": "Data Science Languages\n\n- Python\n- R\n- Julia\n- SQL\n- Scala\n- SAS",
      "metadata": {}
    },
    {
      "cell_type": "markdown",
      "source": "Data Science Libraries\n\n- **Python:**\n  - Pandas\n  - NumPy\n  - SciPy\n  - scikit-learn\n  - TensorFlow\n  - Keras\n  - Matplotlib\n  - Seaborn\n\n- **R:**\n  - ggplot2\n  - dplyr\n  - tidyr\n  - caret\n  - randomForest\n  - xgboost\n  - shiny",
      "metadata": {}
    },
    {
      "cell_type": "markdown",
      "source": "## Data Science Tools\n\n| Tool           | Description                               | Language   |\n|----------------|-------------------------------------------|------------|\n| Jupyter        | Interactive notebooks                     | Python, R  |\n| RStudio        | IDE for R programming                     | R          |\n| Google Colab   | Cloud-based Jupyter notebook              | Python     |\n\n\n",
      "metadata": {}
    },
    {
      "cell_type": "markdown",
      "source": "## Introduction to Arithmetic Expressions\n\n- **Addition:** `a + b`\n- **Subtraction:** `a - b`\n- **Multiplication:** `a * b`\n- **Division:** `a / b`\n- **Exponentiation:** `a ** b`\n- **Modulus (Remainder):** `a % b`\n",
      "metadata": {}
    },
    {
      "cell_type": "code",
      "source": "# Defining numbers\na = 5\nb = 3\n\n# Perform multiplication\nmultiplication_result = a * b\n\n# Perform addition\naddition_result = a + b\n\n# Display results\nmultiplication_result, addition_result",
      "metadata": {
        "trusted": true
      },
      "outputs": [
        {
          "execution_count": 2,
          "output_type": "execute_result",
          "data": {
            "text/plain": "(15, 8)"
          },
          "metadata": {}
        }
      ],
      "execution_count": 2
    },
    {
      "cell_type": "code",
      "source": "# Define the number of minutes\nminutes = 150\n\n# Convert minutes to hours\nhours = minutes / 60\n\n# Display the result\nhours",
      "metadata": {
        "trusted": true
      },
      "outputs": [
        {
          "execution_count": 3,
          "output_type": "execute_result",
          "data": {
            "text/plain": "2.5"
          },
          "metadata": {}
        }
      ],
      "execution_count": 3
    },
    {
      "cell_type": "markdown",
      "source": "Objectives\n\n- Understand the basic arithmetic operations: addition, subtraction, multiplication, and division.\n- Learn how to perform unit conversions, such as converting minutes to hours.\n- Gain proficiency in using Jupyter Notebook for coding and documentation.",
      "metadata": {}
    },
    {
      "cell_type": "markdown",
      "source": "Author: Nyabao Kaosa",
      "metadata": {}
    },
    {
      "cell_type": "code",
      "source": "",
      "metadata": {
        "trusted": true
      },
      "outputs": [],
      "execution_count": null
    }
  ]
}